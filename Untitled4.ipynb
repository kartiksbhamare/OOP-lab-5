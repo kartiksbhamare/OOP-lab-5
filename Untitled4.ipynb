{
  "nbformat": 4,
  "nbformat_minor": 0,
  "metadata": {
    "colab": {
      "name": "Untitled4.ipynb",
      "provenance": [],
      "authorship_tag": "ABX9TyNozEOa+3mDnqkstt9Va29h",
      "include_colab_link": true
    },
    "kernelspec": {
      "name": "python3",
      "display_name": "Python 3"
    },
    "language_info": {
      "name": "python"
    }
  },
  "cells": [
    {
      "cell_type": "markdown",
      "metadata": {
        "id": "view-in-github",
        "colab_type": "text"
      },
      "source": [
        "<a href=\"https://colab.research.google.com/github/kartiksbhamare/OOP-lab-5/blob/main/Untitled4.ipynb\" target=\"_parent\"><img src=\"https://colab.research.google.com/assets/colab-badge.svg\" alt=\"Open In Colab\"/></a>"
      ]
    },
    {
      "cell_type": "code",
      "metadata": {
        "colab": {
          "base_uri": "https://localhost:8080/"
        },
        "id": "WZuQ5UHc7Kx9",
        "outputId": "72623893-22e5-44d8-bd3f-99a3492e7a48"
      },
      "source": [
        "class Shape:\n",
        "  def area(self):\n",
        "    pass\n",
        "\n",
        "\n",
        "#Square\n",
        "class Square(Shape):\n",
        "  def __init__ (self, side):\n",
        "    super().__init__()\n",
        "    self.side = side\n",
        "  \n",
        "  def area(self) :\n",
        "    return self.side * self.side\n",
        "    pass     \n",
        "\n",
        "#Circle\n",
        "class Circle(Shape):\n",
        "  pi = 3.14\n",
        "  def __init__ (self, radius):\n",
        "    super().__init__()\n",
        "    self.radius = radius\n",
        "\n",
        "  def area(self) :\n",
        "    return round(Circle.pi * (self.radius ** 2), 2)\n",
        "    pass  \n",
        "\n",
        "#Rectangle\n",
        "class Rectangle(Shape):\n",
        "  def __init__ (self, length, breadth):\n",
        "    super().__init__()\n",
        "    self.length = length\n",
        "    self.breadth = breadth\n",
        " \n",
        "  def area(self) :\n",
        "    return self.length * self.breadth\n",
        "    pass      \n",
        "\n",
        "\n",
        "r1 = Rectangle (40,35)\n",
        "print(\"Area of rectangle :\", r1.area())\n",
        "\n",
        "c1 = Circle(20)\n",
        "print(\"Area of circle :\", format(c1.area(), \"0.2f\"))\n",
        "\n",
        "s1 = Square (20) \n",
        "print(\"Area of square :\", s1.area())"
      ],
      "execution_count": 2,
      "outputs": [
        {
          "output_type": "stream",
          "name": "stdout",
          "text": [
            "Area of rectangle : 1400\n",
            "Area of circle : 1256.00\n",
            "Area of square : 400\n"
          ]
        }
      ]
    },
    {
      "cell_type": "code",
      "metadata": {
        "colab": {
          "base_uri": "https://localhost:8080/"
        },
        "id": "ujLr0etV7uGk",
        "outputId": "7c82c727-602f-4d6e-dcab-6be30814296c"
      },
      "source": [
        "class Travel:\n",
        "\n",
        "  def __init__(self, passengers):\n",
        "    self.__passengers=passengers\n",
        "\n",
        "  @property       #decorator\n",
        "  def passengers(self):\n",
        "    return self.__passengers\n",
        "\n",
        "  def distance(self):\n",
        "    pass\n",
        "\n",
        "  def mode(self):\n",
        "    pass\n",
        "\n",
        "class train(Travel):\n",
        "  def cost_of_transport(self):\n",
        "    print(self.passengers*60)\n",
        "\n",
        "class bus(Travel):\n",
        "  def cost_of_transport(self):\n",
        "    print(self.passengers*100)\n",
        "\n",
        "mode1 = train(15)\n",
        "print(\"The cost of trip by train =\")\n",
        "mode1.cost_of_transport()\n",
        "\n",
        "mode2 = bus(15)\n",
        "print(\"The cost of trip by bus =\")\n",
        "mode2.cost_of_transport()"
      ],
      "execution_count": 6,
      "outputs": [
        {
          "output_type": "stream",
          "name": "stdout",
          "text": [
            "The cost of trip by train =\n",
            "900\n",
            "The cost of trip by bus =\n",
            "1500\n"
          ]
        }
      ]
    },
    {
      "cell_type": "code",
      "metadata": {
        "colab": {
          "base_uri": "https://localhost:8080/"
        },
        "id": "yM6xIP568MG9",
        "outputId": "5b369d5c-c4ea-4eb6-e910-0e7beb5f67e3"
      },
      "source": [
        "class car:\n",
        "  def __init__(self,carnumber):\n",
        "    self.carnumber=carnumber\n",
        "c1=car(45678)\n",
        "c2=car(3456789)\n",
        "print(\"Model number of c1 is \",c1.carnumber)\n",
        "print(\"Model number of c2 is \",c2.carnumber)\n",
        "\n",
        "def carnumberswap():\n",
        "  c1.carnumber,c2.carnumber=c2.carnumber,c1.carnumber\n",
        "  print(\"Model number of c1 is \",c1.carnumber)\n",
        "  print(\"Model number of c2 is \",c2.carnumber)\n",
        "\n",
        "print(\"After swapping values\")\n",
        "carnumberswap()"
      ],
      "execution_count": 8,
      "outputs": [
        {
          "output_type": "stream",
          "name": "stdout",
          "text": [
            "Model number of c1 is  45678\n",
            "Model number of c2 is  3456789\n",
            "After swapping values\n",
            "Model number of c1 is  3456789\n",
            "Model number of c2 is  45678\n"
          ]
        }
      ]
    }
  ]
}